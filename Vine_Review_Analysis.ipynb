{
  "nbformat": 4,
  "nbformat_minor": 0,
  "metadata": {
    "colab": {
      "name": "Vine_Review_Analysis.ipynb",
      "provenance": [],
      "authorship_tag": "ABX9TyN0MvyOWufKl/w0na4ZlQXz",
      "include_colab_link": true
    },
    "kernelspec": {
      "name": "python3",
      "display_name": "Python 3"
    },
    "language_info": {
      "name": "python"
    }
  },
  "cells": [
    {
      "cell_type": "markdown",
      "metadata": {
        "id": "view-in-github",
        "colab_type": "text"
      },
      "source": [
        "<a href=\"https://colab.research.google.com/github/giseledoan/Amazon_Vine_Analysis/blob/main/Vine_Review_Analysis.ipynb\" target=\"_parent\"><img src=\"https://colab.research.google.com/assets/colab-badge.svg\" alt=\"Open In Colab\"/></a>"
      ]
    },
    {
      "cell_type": "code",
      "metadata": {
        "colab": {
          "base_uri": "https://localhost:8080/"
        },
        "id": "JWpdApgC7tCt",
        "outputId": "2092ca5d-96fe-46b5-ce6c-b973f7f11e60"
      },
      "source": [
        "import os\n",
        "# Find the latest version of spark 3.0 from http://www.apache.org/dist/spark/ and enter as the spark version\n",
        "# For example:\n",
        "# spark_version = 'spark-3.0.3'\n",
        "spark_version = 'spark-3.0.3'\n",
        "os.environ['SPARK_VERSION']=spark_version\n",
        "\n",
        "# Install Spark and Java\n",
        "!apt-get update\n",
        "!apt-get install openjdk-11-jdk-headless -qq > /dev/null\n",
        "!wget -q http://www.apache.org/dist/spark/$SPARK_VERSION/$SPARK_VERSION-bin-hadoop2.7.tgz\n",
        "!tar xf $SPARK_VERSION-bin-hadoop2.7.tgz\n",
        "!pip install -q findspark\n",
        "\n",
        "# Set Environment Variables\n",
        "import os\n",
        "os.environ[\"JAVA_HOME\"] = \"/usr/lib/jvm/java-11-openjdk-amd64\"\n",
        "os.environ[\"SPARK_HOME\"] = f\"/content/{spark_version}-bin-hadoop2.7\"\n",
        "\n",
        "# Start a SparkSession\n",
        "import findspark\n",
        "findspark.init()"
      ],
      "execution_count": 1,
      "outputs": [
        {
          "output_type": "stream",
          "name": "stdout",
          "text": [
            "Ign:1 https://developer.download.nvidia.com/compute/cuda/repos/ubuntu1804/x86_64  InRelease\n",
            "Get:2 https://cloud.r-project.org/bin/linux/ubuntu bionic-cran40/ InRelease [3,626 B]\n",
            "Ign:3 https://developer.download.nvidia.com/compute/machine-learning/repos/ubuntu1804/x86_64  InRelease\n",
            "Get:4 https://developer.download.nvidia.com/compute/cuda/repos/ubuntu1804/x86_64  Release [696 B]\n",
            "Get:5 http://security.ubuntu.com/ubuntu bionic-security InRelease [88.7 kB]\n",
            "Hit:6 http://archive.ubuntu.com/ubuntu bionic InRelease\n",
            "Hit:7 https://developer.download.nvidia.com/compute/machine-learning/repos/ubuntu1804/x86_64  Release\n",
            "Get:8 https://developer.download.nvidia.com/compute/cuda/repos/ubuntu1804/x86_64  Release.gpg [836 B]\n",
            "Get:9 http://ppa.launchpad.net/c2d4u.team/c2d4u4.0+/ubuntu bionic InRelease [15.9 kB]\n",
            "Get:10 http://archive.ubuntu.com/ubuntu bionic-updates InRelease [88.7 kB]\n",
            "Hit:11 http://ppa.launchpad.net/cran/libgit2/ubuntu bionic InRelease\n",
            "Get:12 http://archive.ubuntu.com/ubuntu bionic-backports InRelease [74.6 kB]\n",
            "Hit:13 http://ppa.launchpad.net/deadsnakes/ppa/ubuntu bionic InRelease\n",
            "Get:14 http://ppa.launchpad.net/graphics-drivers/ppa/ubuntu bionic InRelease [21.3 kB]\n",
            "Get:16 https://developer.download.nvidia.com/compute/cuda/repos/ubuntu1804/x86_64  Packages [829 kB]\n",
            "Get:17 http://ppa.launchpad.net/c2d4u.team/c2d4u4.0+/ubuntu bionic/main Sources [1,813 kB]\n",
            "Get:18 http://security.ubuntu.com/ubuntu bionic-security/main amd64 Packages [2,461 kB]\n",
            "Get:19 http://archive.ubuntu.com/ubuntu bionic-updates/main amd64 Packages [2,898 kB]\n",
            "Get:20 http://security.ubuntu.com/ubuntu bionic-security/restricted amd64 Packages [691 kB]\n",
            "Get:21 http://security.ubuntu.com/ubuntu bionic-security/universe amd64 Packages [1,444 kB]\n",
            "Get:22 http://ppa.launchpad.net/c2d4u.team/c2d4u4.0+/ubuntu bionic/main amd64 Packages [930 kB]\n",
            "Get:23 http://archive.ubuntu.com/ubuntu bionic-updates/restricted amd64 Packages [725 kB]\n",
            "Get:24 http://archive.ubuntu.com/ubuntu bionic-updates/universe amd64 Packages [2,225 kB]\n",
            "Get:25 http://ppa.launchpad.net/graphics-drivers/ppa/ubuntu bionic/main amd64 Packages [44.7 kB]\n",
            "Fetched 14.4 MB in 5s (2,770 kB/s)\n",
            "Reading package lists... Done\n"
          ]
        }
      ]
    },
    {
      "cell_type": "code",
      "metadata": {
        "colab": {
          "base_uri": "https://localhost:8080/"
        },
        "id": "8_-vCz5M88Qk",
        "outputId": "857bea7e-7236-4b08-a036-dec7654c1f9c"
      },
      "source": [
        "# Download the Postgres driver that will allow Spark to interact with Postgres.\n",
        "!wget https://jdbc.postgresql.org/download/postgresql-42.2.16.jar"
      ],
      "execution_count": 2,
      "outputs": [
        {
          "output_type": "stream",
          "name": "stdout",
          "text": [
            "--2021-12-04 19:38:28--  https://jdbc.postgresql.org/download/postgresql-42.2.16.jar\n",
            "Resolving jdbc.postgresql.org (jdbc.postgresql.org)... 72.32.157.228, 2001:4800:3e1:1::228\n",
            "Connecting to jdbc.postgresql.org (jdbc.postgresql.org)|72.32.157.228|:443... connected.\n",
            "HTTP request sent, awaiting response... 200 OK\n",
            "Length: 1002883 (979K) [application/java-archive]\n",
            "Saving to: ‘postgresql-42.2.16.jar’\n",
            "\n",
            "postgresql-42.2.16. 100%[===================>] 979.38K  --.-KB/s    in 0.1s    \n",
            "\n",
            "2021-12-04 19:38:29 (6.40 MB/s) - ‘postgresql-42.2.16.jar’ saved [1002883/1002883]\n",
            "\n"
          ]
        }
      ]
    },
    {
      "cell_type": "code",
      "metadata": {
        "id": "B1YZTQxZ9IR2"
      },
      "source": [
        "from pyspark.sql import SparkSession\n",
        "spark = SparkSession.builder.appName(\"M16-Amazon-Challenge\").config(\"spark.driver.extraClassPath\",\"/content/postgresql-42.2.16.jar\").getOrCreate()"
      ],
      "execution_count": 3,
      "outputs": []
    },
    {
      "cell_type": "code",
      "metadata": {
        "colab": {
          "base_uri": "https://localhost:8080/"
        },
        "id": "2nb2WFfx9Me6",
        "outputId": "c2b43223-783f-4990-953b-a8cde88820db"
      },
      "source": [
        "#Load Amazon data into Spark DataFrame\n",
        "from pyspark import SparkFiles\n",
        "url = \"https://s3.amazonaws.com/amazon-reviews-pds/tsv/amazon_reviews_us_Beauty_v1_00.tsv.gz\"\n",
        "spark.sparkContext.addFile(url)\n",
        "df = spark.read.option(\"encoding\", \"UTF-8\").csv(SparkFiles.get(\"\"), sep=\"\\t\", header=True, inferSchema=True)\n",
        "df.show()"
      ],
      "execution_count": 4,
      "outputs": [
        {
          "output_type": "stream",
          "name": "stdout",
          "text": [
            "+-----------+-----------+--------------+----------+--------------+--------------------+----------------+-----------+-------------+-----------+----+-----------------+--------------------+---------------------+-----------+\n",
            "|marketplace|customer_id|     review_id|product_id|product_parent|       product_title|product_category|star_rating|helpful_votes|total_votes|vine|verified_purchase|     review_headline|          review_body|review_date|\n",
            "+-----------+-----------+--------------+----------+--------------+--------------------+----------------+-----------+-------------+-----------+----+-----------------+--------------------+---------------------+-----------+\n",
            "|         US|    1797882|R3I2DHQBR577SS|B001ANOOOE|       2102612|The Naked Bee Vit...|          Beauty|          5|            0|          0|   N|                Y|          Five Stars| Love this, excell...| 2015-08-31|\n",
            "|         US|   18381298|R1QNE9NQFJC2Y4|B0016J22EQ|     106393691|Alba Botanica Sun...|          Beauty|          5|            0|          0|   N|                Y|Thank you Alba Bo...| The great thing a...| 2015-08-31|\n",
            "|         US|   19242472|R3LIDG2Q4LJBAO|B00HU6UQAG|     375449471|Elysee Infusion S...|          Beauty|          5|            0|          0|   N|                Y|          Five Stars| Great Product, I'...| 2015-08-31|\n",
            "|         US|   19551372|R3KSZHPAEVPEAL|B002HWS7RM|     255651889|Diane D722 Color,...|          Beauty|          5|            0|          0|   N|                Y|          GOOD DEAL!| I use them as sho...| 2015-08-31|\n",
            "|         US|   14802407| RAI2OIG50KZ43|B00SM99KWU|     116158747|Biore UV Aqua Ric...|          Beauty|          5|            0|          0|   N|                Y|this soaks in qui...| This is my go-to ...| 2015-08-31|\n",
            "|         US|    2909389|R1R30FA4RB5P54|B000NYL1Z6|     166146615|Murad Clarifying ...|          Beauty|          4|            0|          0|   N|                Y|          Four Stars|                 Good| 2015-08-31|\n",
            "|         US|   19397215|R30IJKCGJBGPJH|B001SYWTFG|     111742328|CoverGirl Queen C...|          Beauty|          5|            0|          0|   N|                Y|            Good buy| Great eyeliner, d...| 2015-08-31|\n",
            "|         US|    3195210|R18GLJJPVQ1OVH|B005F2EVMQ|     255803087|Bifesta Mandom Ey...|          Beauty|          5|            0|          0|   N|                Y|          Five Stars|Best makeup remover！| 2015-08-31|\n",
            "|         US|   52216383| R8TVYIJXLYJT0|B00M1SUW7K|     246816549|Can You Handlebar...|          Beauty|          5|            0|          0|   N|                Y|Tame the wild mus...| This is a great p...| 2015-08-31|\n",
            "|         US|   10278216|R1CJGF6M3PVHEZ|B001KYQA1S|       9612905|Maybelline Great ...|          Beauty|          1|            0|          2|   N|                Y|but it's like hav...| I thought it woul...| 2015-08-31|\n",
            "|         US|   24655453|R2A30ALEGLMCGN|B00SAQ9DZY|     292127037|12 New, High Qual...|          Beauty|          4|            1|          1|   N|                Y|        Good Product| These are great f...| 2015-08-31|\n",
            "|         US|   30788223|R134GP1Y3EQZ1L|B00HFQQ0VU|     311309827|Waterpik Aquarius...|          Beauty|          5|            0|          0|   N|                Y| Optimum Oral Health| Just got this.  N...| 2015-08-31|\n",
            "|         US|   11257536| R6CE3SOIUJGP4|B00PYL8MAA|     390030149|Proganix Agave Ne...|          Beauty|          4|            1|          1|   N|                N|   Love this cream !| Wish I had discov...| 2015-08-31|\n",
            "|         US|   29605778|R37CDLQZUPDZVM|B00D9NV2D4|     794858888|         Shea Butter|          Beauty|          5|            0|          0|   N|                Y|It works so much ...| I bought this to ...| 2015-08-31|\n",
            "|         US|   41238422|R1KH9XCK6GYT26|B008Y9M412|     874223919|Etude House Fresh...|          Beauty|          5|            0|          0|   N|                Y|          Five Stars| The tint is aweso...| 2015-08-31|\n",
            "|         US|   23620123|R3I4BQ6654MQNA|B00FWXBLHG|     464001209|Vintage Lil' Spon...|          Beauty|          5|            1|          1|   N|                Y|Great product, fa...| I'm in love with ...| 2015-08-31|\n",
            "|         US|   25564245|R3LUPG356F1D40|B003KL8CB0|     328680790|Jenna Jameson Hea...|          Beauty|          5|            3|          3|   N|                N|Does not smell ch...| I was given this ...| 2015-08-31|\n",
            "|         US|     801375|R3HNVRTHL9S2ZB|B006R2LNV0|     620737389|Korean Cosmetics_...|          Beauty|          5|            0|          0|   N|                N|          Five Stars| Magical everybody...| 2015-08-31|\n",
            "|         US|    9478730| R5HKL5RD4IUT8|B00SMIIR0W|     351973146|Schick Hydro Silk...|          Beauty|          5|            0|          0|   N|                Y|Love this Razor/T...| Works fantastic! ...| 2015-08-31|\n",
            "|         US|   18418407|R37Z8NBTHPR853|B003UKKH6O|      10034795|Oral-B Vitality P...|          Beauty|          5|            0|          0|   N|                Y|          Five Stars| excellent battery...| 2015-08-31|\n",
            "+-----------+-----------+--------------+----------+--------------+--------------------+----------------+-----------+-------------+-----------+----+-----------------+--------------------+---------------------+-----------+\n",
            "only showing top 20 rows\n",
            "\n"
          ]
        }
      ]
    },
    {
      "cell_type": "code",
      "metadata": {
        "colab": {
          "base_uri": "https://localhost:8080/"
        },
        "id": "bkVZ7Xva9f0-",
        "outputId": "3fc79a28-71ea-4a6b-9838-d8c45c868a8d"
      },
      "source": [
        "# Create the vine_table. DataFrame\n",
        "vine_df = df.select([\"total_votes\", \"review_id\", \"star_rating\", \"helpful_votes\", \"vine\", \"verified_purchase\"])\n",
        "vine_df.show(5)"
      ],
      "execution_count": 5,
      "outputs": [
        {
          "output_type": "stream",
          "name": "stdout",
          "text": [
            "+-----------+--------------+-----------+-------------+----+-----------------+\n",
            "|total_votes|     review_id|star_rating|helpful_votes|vine|verified_purchase|\n",
            "+-----------+--------------+-----------+-------------+----+-----------------+\n",
            "|          0|R3I2DHQBR577SS|          5|            0|   N|                Y|\n",
            "|          0|R1QNE9NQFJC2Y4|          5|            0|   N|                Y|\n",
            "|          0|R3LIDG2Q4LJBAO|          5|            0|   N|                Y|\n",
            "|          0|R3KSZHPAEVPEAL|          5|            0|   N|                Y|\n",
            "|          0| RAI2OIG50KZ43|          5|            0|   N|                Y|\n",
            "+-----------+--------------+-----------+-------------+----+-----------------+\n",
            "only showing top 5 rows\n",
            "\n"
          ]
        }
      ]
    },
    {
      "cell_type": "code",
      "metadata": {
        "colab": {
          "base_uri": "https://localhost:8080/"
        },
        "id": "OUmA5Zoy980a",
        "outputId": "a4609432-d4ca-40cb-9aa8-f0f3d7e83d91"
      },
      "source": [
        "# 1/ create a new DataFrame or table to retrieve all the rows where the total_votes count is equal to or greater than 20\n",
        "votes20_df = vine_df.filter(vine_df.total_votes >= 20)\n",
        "votes20_df.show(5)"
      ],
      "execution_count": 15,
      "outputs": [
        {
          "output_type": "stream",
          "name": "stdout",
          "text": [
            "+-----------+--------------+-----------+-------------+----+-----------------+\n",
            "|total_votes|     review_id|star_rating|helpful_votes|vine|verified_purchase|\n",
            "+-----------+--------------+-----------+-------------+----+-----------------+\n",
            "|         23|R2QRUE9REK8OUC|          5|           18|   N|                Y|\n",
            "|         30|R2POXRW6PXHXZG|          5|           25|   N|                Y|\n",
            "|         27| RZN43XRZ89IIJ|          3|           10|   N|                N|\n",
            "|         24|R29Q748WSHZ3SN|          5|           23|   N|                Y|\n",
            "|         20| R46UL5G5HEPRZ|          5|           18|   N|                N|\n",
            "+-----------+--------------+-----------+-------------+----+-----------------+\n",
            "only showing top 5 rows\n",
            "\n"
          ]
        }
      ]
    },
    {
      "cell_type": "code",
      "metadata": {
        "colab": {
          "base_uri": "https://localhost:8080/"
        },
        "id": "gnNa5Xnn9vu_",
        "outputId": "5a838f12-680b-4af9-c284-90228acac177"
      },
      "source": [
        "# 2/ create a new DataFrame to retrieve all the rows where the number of helpful_votes divided by total_votes is equal to or greater than 50%\n",
        "votes_helpful_df = votes20_df.filter((votes_df.helpful_votes / votes_df.total_votes) >= 0.5)\n",
        "votes_helpful_df.show(10)"
      ],
      "execution_count": 16,
      "outputs": [
        {
          "output_type": "stream",
          "name": "stdout",
          "text": [
            "+-----------+--------------+-----------+-------------+----+-----------------+\n",
            "|total_votes|     review_id|star_rating|helpful_votes|vine|verified_purchase|\n",
            "+-----------+--------------+-----------+-------------+----+-----------------+\n",
            "|         23|R2QRUE9REK8OUC|          5|           18|   N|                Y|\n",
            "|         30|R2POXRW6PXHXZG|          5|           25|   N|                Y|\n",
            "|         24|R29Q748WSHZ3SN|          5|           23|   N|                Y|\n",
            "|         20| R46UL5G5HEPRZ|          5|           18|   N|                N|\n",
            "|         76|R2UQHSNWU6WTZX|          5|           74|   N|                N|\n",
            "|         71|R2HSRI3D6E2M9Y|          5|           69|   N|                Y|\n",
            "|         29|R17ARFSDV555EW|          1|           29|   N|                Y|\n",
            "|         21|R3GL5156FFEDQA|          5|           20|   N|                Y|\n",
            "|         26|R29KQJC9PIYWQS|          5|           25|   N|                Y|\n",
            "|         22| RYWUJT2A33VJH|          5|           20|   N|                N|\n",
            "+-----------+--------------+-----------+-------------+----+-----------------+\n",
            "only showing top 10 rows\n",
            "\n"
          ]
        }
      ]
    },
    {
      "cell_type": "code",
      "metadata": {
        "colab": {
          "base_uri": "https://localhost:8080/"
        },
        "id": "kT95iffV-mbo",
        "outputId": "c7ff45ba-788a-4493-a7db-e20a0b4dd4e6"
      },
      "source": [
        "# 3/ create a new DataFrame that retrieves all the rows where a review was written as part of the Vine program (paid), vine == 'Y'\n",
        "vine_yes_df = vine_df.filter(vine_df.vine == 'Y')\n",
        "vine_yes_df.show(5)"
      ],
      "execution_count": 17,
      "outputs": [
        {
          "output_type": "stream",
          "name": "stdout",
          "text": [
            "+-----------+--------------+-----------+-------------+----+-----------------+\n",
            "|total_votes|     review_id|star_rating|helpful_votes|vine|verified_purchase|\n",
            "+-----------+--------------+-----------+-------------+----+-----------------+\n",
            "|          0| RD8F1K5G9W1VX|          3|            0|   Y|                N|\n",
            "|          0|  R5TB74ZZY6HR|          4|            0|   Y|                N|\n",
            "|          0|R1NALGILK9MRE5|          5|            0|   Y|                N|\n",
            "|          0| ROTEP415SJ4DT|          5|            0|   Y|                N|\n",
            "|          0|R2ZI2NSAZ0KBIB|          4|            0|   Y|                N|\n",
            "+-----------+--------------+-----------+-------------+----+-----------------+\n",
            "only showing top 5 rows\n",
            "\n"
          ]
        }
      ]
    },
    {
      "cell_type": "code",
      "metadata": {
        "colab": {
          "base_uri": "https://localhost:8080/"
        },
        "id": "oDfpVxRg-x0K",
        "outputId": "028262e1-71aa-4291-a267-7bc3d0098653"
      },
      "source": [
        "# 4/ retrieve all the rows where the review was not part of the Vine program (unpaid), vine == 'N'\n",
        "vine_no_df = vine_df.filter(vine_df.vine == 'N')\n",
        "vine_no_df.show(5)"
      ],
      "execution_count": 18,
      "outputs": [
        {
          "output_type": "stream",
          "name": "stdout",
          "text": [
            "+-----------+--------------+-----------+-------------+----+-----------------+\n",
            "|total_votes|     review_id|star_rating|helpful_votes|vine|verified_purchase|\n",
            "+-----------+--------------+-----------+-------------+----+-----------------+\n",
            "|          0|R3I2DHQBR577SS|          5|            0|   N|                Y|\n",
            "|          0|R1QNE9NQFJC2Y4|          5|            0|   N|                Y|\n",
            "|          0|R3LIDG2Q4LJBAO|          5|            0|   N|                Y|\n",
            "|          0|R3KSZHPAEVPEAL|          5|            0|   N|                Y|\n",
            "|          0| RAI2OIG50KZ43|          5|            0|   N|                Y|\n",
            "+-----------+--------------+-----------+-------------+----+-----------------+\n",
            "only showing top 5 rows\n",
            "\n"
          ]
        }
      ]
    },
    {
      "cell_type": "code",
      "metadata": {
        "colab": {
          "base_uri": "https://localhost:8080/"
        },
        "id": "Z58DdsdT_Ovi",
        "outputId": "52021165-a980-4f1a-b1fe-689261f537ec"
      },
      "source": [
        "# 5.1/ Total paid reviews\n",
        "total_paid_reviews = vine_yes_df.count()\n",
        "total_paid_reviews"
      ],
      "execution_count": 19,
      "outputs": [
        {
          "output_type": "execute_result",
          "data": {
            "text/plain": [
              "33309"
            ]
          },
          "metadata": {},
          "execution_count": 19
        }
      ]
    },
    {
      "cell_type": "code",
      "metadata": {
        "colab": {
          "base_uri": "https://localhost:8080/"
        },
        "id": "mV81hh5t_VSN",
        "outputId": "6f638187-e7f3-49a0-9f6a-67cd61118170"
      },
      "source": [
        "# 5.2/ Total paid reviews (5-star)\n",
        "paid_five_star_reviews = vine_yes_df.filter(vine_yes_df.star_rating == 5).count()\n",
        "paid_five_star_reviews"
      ],
      "execution_count": 20,
      "outputs": [
        {
          "output_type": "execute_result",
          "data": {
            "text/plain": [
              "12429"
            ]
          },
          "metadata": {},
          "execution_count": 20
        }
      ]
    },
    {
      "cell_type": "code",
      "metadata": {
        "colab": {
          "base_uri": "https://localhost:8080/"
        },
        "id": "jyftpyRZ_gd2",
        "outputId": "3057effe-c07d-499f-b15e-ad0311749ac4"
      },
      "source": [
        "# 5.3/ Percentage of paid reviews (5-star)\n",
        "paid_five_star_percentage = (paid_five_star_reviews / total_paid_reviews) * 100\n",
        "paid_five_star_percentage"
      ],
      "execution_count": 21,
      "outputs": [
        {
          "output_type": "execute_result",
          "data": {
            "text/plain": [
              "37.314239394758175"
            ]
          },
          "metadata": {},
          "execution_count": 21
        }
      ]
    },
    {
      "cell_type": "code",
      "metadata": {
        "colab": {
          "base_uri": "https://localhost:8080/"
        },
        "id": "7aSGb7Bf_uzb",
        "outputId": "3c9941c7-e3c3-4da7-f0ed-934af0c1859e"
      },
      "source": [
        "# 5.4/ Total unpaid reviews\n",
        "total_unpaid_reviews = vine_no_df.count()\n",
        "total_unpaid_reviews"
      ],
      "execution_count": 22,
      "outputs": [
        {
          "output_type": "execute_result",
          "data": {
            "text/plain": [
              "5082143"
            ]
          },
          "metadata": {},
          "execution_count": 22
        }
      ]
    },
    {
      "cell_type": "code",
      "metadata": {
        "colab": {
          "base_uri": "https://localhost:8080/"
        },
        "id": "-eN_51MtAv7x",
        "outputId": "a5712823-9772-4964-fcc9-d3b00b50f8fc"
      },
      "source": [
        "# 5.5/ Total upaid reviews (5-star)\n",
        "unpaid_five_star_reviews = vine_no_df.filter(vine_no_df.star_rating == 5).count()\n",
        "unpaid_five_star_reviews"
      ],
      "execution_count": 23,
      "outputs": [
        {
          "output_type": "execute_result",
          "data": {
            "text/plain": [
              "3242324"
            ]
          },
          "metadata": {},
          "execution_count": 23
        }
      ]
    },
    {
      "cell_type": "code",
      "metadata": {
        "colab": {
          "base_uri": "https://localhost:8080/"
        },
        "id": "uazU4cuFBFic",
        "outputId": "ea1a9f3e-efa9-4902-ce4b-f50ad30ce689"
      },
      "source": [
        "# 5.6/ Percentage of unpaid reviews (5-star)\n",
        "unpaid_five_star_percent = (unpaid_five_star_reviews / total_unpaid_reviews) * 100\n",
        "unpaid_five_star_percent"
      ],
      "execution_count": 24,
      "outputs": [
        {
          "output_type": "execute_result",
          "data": {
            "text/plain": [
              "63.79836222632854"
            ]
          },
          "metadata": {},
          "execution_count": 24
        }
      ]
    }
  ]
}